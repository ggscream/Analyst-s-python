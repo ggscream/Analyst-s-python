{
 "cells": [
  {
   "cell_type": "markdown",
   "metadata": {
    "id": "gfU1yjPJwUjw"
   },
   "source": [
    "# Домашнее задание № 1"
   ]
  },
  {
   "cell_type": "markdown",
   "metadata": {
    "id": "WUz-F04iwF4X"
   },
   "source": [
    "## Задача 1:\n",
    "\n",
    "Оформляйте ноутбук, используя эти советы:\n",
    "Номер задачи - заголовок 2\n",
    "Номер подзадачи - заголовок 3\n",
    "Предоставленные наборы данных оформляйте, как код\n",
    "\n",
    "## Задача 2:\n",
    "\n",
    "На складе лежат разные фрукты в разном количестве.\n",
    "Нужно написать функцию, которая на вход принимает любое количество названий фруктов и их количество, а возвращает общее количество фруктов на складе"
   ]
  },
  {
   "cell_type": "markdown",
   "metadata": {
    "id": "JXwbPSgMxPa5"
   },
   "source": [
    "### Вариант 2.1:"
   ]
  },
  {
   "cell_type": "code",
   "execution_count": 1,
   "metadata": {
    "colab": {
     "base_uri": "https://localhost:8080/"
    },
    "executionInfo": {
     "elapsed": 244,
     "status": "ok",
     "timestamp": 1677348710689,
     "user": {
      "displayName": "Илья Куманьков",
      "userId": "14564340376408744105"
     },
     "user_tz": -180
    },
    "id": "YxW8ewD0SZN1",
    "outputId": "8e9886ab-5b32-4a2b-9fe9-de8f8b02746f"
   },
   "outputs": [
    {
     "name": "stdout",
     "output_type": "stream",
     "text": [
      "Количество фруктов на складе =  15\n"
     ]
    }
   ],
   "source": [
    "def count_fruits(*fruits):\n",
    "  sum_fr = 0\n",
    "  for fruit, quantity in fruits:\n",
    "    sum_fr += quantity    \n",
    "  return sum_fr\n",
    "print('Количество фруктов на складе = ',count_fruits(('apples',3),('bananas', 5),('peaches',7)))"
   ]
  },
  {
   "cell_type": "markdown",
   "metadata": {
    "id": "7LDwSAFRxVfE"
   },
   "source": [
    "### Вариант 2.2:"
   ]
  },
  {
   "cell_type": "code",
   "execution_count": 2,
   "metadata": {
    "colab": {
     "base_uri": "https://localhost:8080/"
    },
    "executionInfo": {
     "elapsed": 246,
     "status": "ok",
     "timestamp": 1677348720524,
     "user": {
      "displayName": "Илья Куманьков",
      "userId": "14564340376408744105"
     },
     "user_tz": -180
    },
    "id": "MpEJDSQYxaOo",
    "outputId": "cdd6a55a-6365-45ac-ec7d-11fe68d7b77a"
   },
   "outputs": [
    {
     "name": "stdout",
     "output_type": "stream",
     "text": [
      "Количество фруктов на складе =  17\n"
     ]
    }
   ],
   "source": [
    "def count_fruits2(*fruits2):\n",
    "  sum_fr = 0\n",
    "  for i in range(1,len(fruits2),2):\n",
    "    sum_fr += fruits2[i]\n",
    "  return sum_fr  \n",
    "print('Количество фруктов на складе = ',count_fruits2('apples',4,'bananas',5,'peaches',8))"
   ]
  },
  {
   "cell_type": "markdown",
   "metadata": {
    "id": "Ulw2U3nabXP8"
   },
   "source": [
    "## Задача 3:\n",
    "\n",
    "Дан список с затратами на рекламу. Но в данных есть ошибки, некоторые затраты имеют отрицательную величину. Удалите такие значения из списка и посчитайте суммарные затраты\n",
    "[100, 125, -90, 345, 655, -1, 0, 200]\n",
    "Используйте list comprehensions"
   ]
  },
  {
   "cell_type": "code",
   "execution_count": 3,
   "metadata": {
    "colab": {
     "base_uri": "https://localhost:8080/"
    },
    "executionInfo": {
     "elapsed": 275,
     "status": "ok",
     "timestamp": 1677348723939,
     "user": {
      "displayName": "Илья Куманьков",
      "userId": "14564340376408744105"
     },
     "user_tz": -180
    },
    "id": "ZdMnSRfxUgCU",
    "outputId": "9bb1f5e8-86ad-4f8b-a6c3-54913e781b11"
   },
   "outputs": [
    {
     "name": "stdout",
     "output_type": "stream",
     "text": [
      "Затраты на рекламу без отрицательных значений = [100, 125, 345, 655, 0, 200]\n",
      "Cуммарные затраты на рекламу =  1425\n"
     ]
    }
   ],
   "source": [
    "reklama =  [100, 125, -90, 345, 655, -1, 0, 200] \n",
    "reklama_corr = [i for i in reklama if i >= 0]\n",
    "print(f'Затраты на рекламу без отрицательных значений = {reklama_corr}')\n",
    "print('Cуммарные затраты на рекламу = ',sum(reklama_corr))"
   ]
  },
  {
   "cell_type": "markdown",
   "metadata": {
    "id": "hiXzjCoUiAqL"
   },
   "source": [
    "## Задача 4:\n",
    "\n",
    "Даны два списка.\n",
    "\n",
    "Дата покупки\n",
    "\n",
    "['2021-09-14', '2021-12-15', '2021-09-08', '2021-12-05', '2021-10-09', '2021-09-30', '2021-12-22', '2021-11-29', '2021-12-24', '2021-11-26', '2021-10-27', '2021-12-18', '2021-11-09', '2021-11-23', '2021-09-27', '2021-10-02', '2021-12-27', '2021-09-20', '2021-12-13', '2021-11-01', '2021-11-09', '2021-12-06', '2021-12-08', '2021-10-09', '2021-10-31', '2021-09-30', '2021-11-09', '2021-12-13', '2021-10-26', '2021-12-09']\n",
    "\n",
    "Суммы покупок по датам\n",
    "\n",
    "[1270, 8413, 9028, 3703, 5739, 4095, 295, 4944, 5723, 3701, 4471, 651, 7037, 4274, 6275, 4988, 6930, 2971, 6592, 2004, 2822, 519, 3406, 2732, 5015, 2008, 316, 6333, 5700, 2887]\n",
    "\n",
    "### Условие 4.1:\n",
    "\n",
    "Найдите, какая выручка у компании в ноябре\n",
    "\n",
    "Используйте list comprehensions"
   ]
  },
  {
   "cell_type": "code",
   "execution_count": 4,
   "metadata": {
    "colab": {
     "base_uri": "https://localhost:8080/"
    },
    "executionInfo": {
     "elapsed": 264,
     "status": "ok",
     "timestamp": 1677348787627,
     "user": {
      "displayName": "Илья Куманьков",
      "userId": "14564340376408744105"
     },
     "user_tz": -180
    },
    "id": "FQJt-2eRiPrk",
    "outputId": "cf71fbbc-b6b5-44e4-9562-629280fd9120"
   },
   "outputs": [
    {
     "name": "stdout",
     "output_type": "stream",
     "text": [
      "Суммы покупок в ноябре 2021 = [4944, 3701, 7037, 4274, 2004, 2822, 316]\n",
      "Выручка компании в ноябре 2021 =  25098\n"
     ]
    }
   ],
   "source": [
    "from dateutil.parser import parse\n",
    "dates = ['2021-09-14', '2021-12-15', '2021-09-08', '2021-12-05', '2021-10-09', '2021-09-30', '2021-12-22', '2021-11-29', '2021-12-24', '2021-11-26', '2021-10-27', '2021-12-18', '2021-11-09', '2021-11-23', '2021-09-27', '2021-10-02', '2021-12-27', '2021-09-20', '2021-12-13', '2021-11-01', '2021-11-09', '2021-12-06', '2021-12-08', '2021-10-09', '2021-10-31', '2021-09-30', '2021-11-09', '2021-12-13', '2021-10-26', '2021-12-09']\n",
    "sums = [1270, 8413, 9028, 3703, 5739, 4095, 295, 4944, 5723, 3701, 4471, 651, 7037, 4274, 6275, 4988, 6930, 2971, 6592, 2004, 2822, 519, 3406, 2732, 5015, 2008, 316, 6333, 5700, 2887]\n",
    "sum_november_2021 = [sums[i] for i in range(len(dates)) if parse(dates[i]).year == 2021 and parse(dates[i]).month == 11]\n",
    "print(f'Суммы покупок в ноябре 2021 = {sum_november_2021}')\n",
    "print('Выручка компании в ноябре 2021 = ', sum(sum_november_2021)) "
   ]
  },
  {
   "cell_type": "markdown",
   "metadata": {
    "id": "MeN-BszKw-XS"
   },
   "source": [
    "### Условие 4.1:\n",
    "\n",
    "Найдите выручку компании в зависимости от месяца\n",
    "Для этого напишите функцию, которая на вход принимает список с датами и список с выручкой, а на выходе словарь, где ключи - это месяцы, а значения - это выручка.\n",
    "\n",
    "Используйте аннотирование типов.\n"
   ]
  },
  {
   "cell_type": "code",
   "execution_count": 5,
   "metadata": {
    "colab": {
     "base_uri": "https://localhost:8080/"
    },
    "executionInfo": {
     "elapsed": 236,
     "status": "ok",
     "timestamp": 1677349545690,
     "user": {
      "displayName": "Илья Куманьков",
      "userId": "14564340376408744105"
     },
     "user_tz": -180
    },
    "id": "d2_kcIsVnJFD",
    "outputId": "08458a57-99bb-4469-f38b-4d47484d5d73"
   },
   "outputs": [
    {
     "name": "stdout",
     "output_type": "stream",
     "text": [
      "Выручка по месяцам:  {'2021-09': 25647, '2021-10': 28645, '2021-11': 25098, '2021-12': 45452}\n"
     ]
    }
   ],
   "source": [
    "def revenue(list_of_dates,list_of_sums):\n",
    "  months = set()\n",
    "  for i in dates:\n",
    "    months.add(i[:7])\n",
    "  months = sorted(months)  \n",
    "  rev_dict = {}\n",
    "  for j in months:\n",
    "    rev_dict[j] = sum([list_of_sums[k] for k in range(len(list_of_dates)) if str(list_of_dates[k][:7]) == j]) \n",
    "  return rev_dict\n",
    "\n",
    "print('Выручка по месяцам: ',revenue(dates,sums))"
   ]
  }
 ],
 "metadata": {
  "colab": {
   "authorship_tag": "ABX9TyNE5L0752YG48uE+e0cBLSR",
   "provenance": []
  },
  "kernelspec": {
   "display_name": "Python 3 (ipykernel)",
   "language": "python",
   "name": "python3"
  },
  "language_info": {
   "codemirror_mode": {
    "name": "ipython",
    "version": 3
   },
   "file_extension": ".py",
   "mimetype": "text/x-python",
   "name": "python",
   "nbconvert_exporter": "python",
   "pygments_lexer": "ipython3",
   "version": "3.10.6"
  }
 },
 "nbformat": 4,
 "nbformat_minor": 1
}
